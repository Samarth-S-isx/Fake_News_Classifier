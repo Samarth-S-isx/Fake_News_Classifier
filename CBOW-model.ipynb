{
 "cells": [
  {
   "cell_type": "code",
   "execution_count": 2,
   "metadata": {},
   "outputs": [],
   "source": [
    "import pandas as pd\n",
    "import numpy as np\n",
    "df = pd.read_csv('train.csv')"
   ]
  },
  {
   "cell_type": "code",
   "execution_count": 3,
   "metadata": {},
   "outputs": [
    {
     "data": {
      "text/plain": [
       "0    10361\n",
       "1     7924\n",
       "Name: label, dtype: int64"
      ]
     },
     "execution_count": 3,
     "metadata": {},
     "output_type": "execute_result"
    }
   ],
   "source": [
    "df=df.dropna()\n",
    "df = df.reset_index()\n",
    "x = df.drop('label',axis=1)\n",
    "y = df['label']\n",
    "y.value_counts()"
   ]
  },
  {
   "cell_type": "code",
   "execution_count": 4,
   "metadata": {},
   "outputs": [
    {
     "data": {
      "text/plain": [
       "18285"
      ]
     },
     "execution_count": 4,
     "metadata": {},
     "output_type": "execute_result"
    }
   ],
   "source": [
    "messages = df['title']\n",
    "y =df['label']\n",
    "import re\n",
    "corpus1 = []\n",
    "for i in range(len(messages)):\n",
    "    review = re.sub('[^a-zA-Z]', ' ', messages[i])\n",
    "    review = review.lower()\n",
    "    review = review.split()\n",
    "    review = ' '.join(review)\n",
    "    corpus1.append(review)\n",
    "len(corpus1)"
   ]
  },
  {
   "cell_type": "code",
   "execution_count": 5,
   "metadata": {},
   "outputs": [],
   "source": [
    "import spacy\n",
    "nlp = spacy.load(\"en_core_web_lg\")"
   ]
  },
  {
   "cell_type": "code",
   "execution_count": 6,
   "metadata": {},
   "outputs": [
    {
     "data": {
      "text/plain": [
       "'house dem aide didn t comey s letter jason chaffetz tweet'"
      ]
     },
     "execution_count": 6,
     "metadata": {},
     "output_type": "execute_result"
    }
   ],
   "source": [
    "corpus = []\n",
    "for d in corpus1:\n",
    "    doc1 = nlp(d)\n",
    "    word = [w.lemma_ for w in doc1 if nlp.vocab[str(w)].is_stop==False]\n",
    "    corpus.append(' '.join(word))\n",
    "corpus[0]"
   ]
  },
  {
   "cell_type": "code",
   "execution_count": 22,
   "metadata": {},
   "outputs": [],
   "source": [
    "from tensorflow.keras.layers import Embedding\n",
    "from tensorflow.keras.preprocessing.sequence import pad_sequences\n",
    "from tensorflow.keras.models import Sequential\n",
    "from tensorflow.keras.preprocessing.text import one_hot\n",
    "from tensorflow.keras.layers import LSTM\n",
    "from tensorflow.keras.layers import Dense\n",
    "from keras.layers import Dropout"
   ]
  },
  {
   "cell_type": "code",
   "execution_count": 23,
   "metadata": {},
   "outputs": [],
   "source": [
    "voc_size=5000\n",
    "one_hotrep = [one_hot(words,voc_size) for words in corpus]"
   ]
  },
  {
   "cell_type": "code",
   "execution_count": 24,
   "metadata": {},
   "outputs": [
    {
     "name": "stdout",
     "output_type": "stream",
     "text": [
      "<class 'numpy.ndarray'>\n"
     ]
    }
   ],
   "source": [
    "\n",
    "sent_length=25\n",
    "embedded_docs=pad_sequences(one_hotrep,padding='pre',maxlen=sent_length)\n",
    "print(type(embedded_docs[0]))"
   ]
  },
  {
   "cell_type": "code",
   "execution_count": 25,
   "metadata": {},
   "outputs": [],
   "source": [
    "X = embedded_docs\n",
    "y = np.array(y)\n",
    "X = np.reshape(X, (X.shape[0], X.shape[1], 1))"
   ]
  },
  {
   "cell_type": "code",
   "execution_count": 26,
   "metadata": {},
   "outputs": [],
   "source": [
    "from sklearn.model_selection import train_test_split\n",
    "X_train, X_test, y_train, y_test = train_test_split(X, y, test_size=0.33, random_state=42)"
   ]
  },
  {
   "cell_type": "code",
   "execution_count": 30,
   "metadata": {},
   "outputs": [
    {
     "name": "stdout",
     "output_type": "stream",
     "text": [
      "Model: \"sequential_3\"\n",
      "_________________________________________________________________\n",
      " Layer (type)                Output Shape              Param #   \n",
      "=================================================================\n",
      " embedding_3 (Embedding)     (None, 25, 40)            200000    \n",
      "                                                                 \n",
      " lstm_4 (LSTM)               (None, 25, 200)           192800    \n",
      "                                                                 \n",
      " dropout_2 (Dropout)         (None, 25, 200)           0         \n",
      "                                                                 \n",
      " lstm_5 (LSTM)               (None, 100)               120400    \n",
      "                                                                 \n",
      " dropout_3 (Dropout)         (None, 100)               0         \n",
      "                                                                 \n",
      " dense_2 (Dense)             (None, 1)                 101       \n",
      "                                                                 \n",
      "=================================================================\n",
      "Total params: 513,301\n",
      "Trainable params: 513,301\n",
      "Non-trainable params: 0\n",
      "_________________________________________________________________\n",
      "None\n"
     ]
    }
   ],
   "source": [
    "## Creating model\n",
    "embedding_vector_features=40\n",
    "regressor=Sequential()\n",
    "regressor.add(Embedding(voc_size,embedding_vector_features,input_length=sent_length))\n",
    "regressor.add(LSTM(200,return_sequences=True))    \n",
    "regressor.add(Dropout(0.2))\n",
    "regressor.add(LSTM(100))   \n",
    "regressor.add(Dropout(0.2)) \n",
    "regressor.add(Dense(1,activation='sigmoid'))\n",
    "regressor.compile(optimizer = 'adam', loss = 'binary_crossentropy',metrics=['accuracy'])\n",
    "print(regressor.summary())"
   ]
  },
  {
   "cell_type": "code",
   "execution_count": 31,
   "metadata": {},
   "outputs": [
    {
     "name": "stdout",
     "output_type": "stream",
     "text": [
      "Epoch 1/10\n",
      "192/192 [==============================] - 27s 117ms/step - loss: 0.1062 - accuracy: 0.8466 - val_loss: 0.0575 - val_accuracy: 0.9253\n",
      "Epoch 2/10\n",
      "192/192 [==============================] - 22s 116ms/step - loss: 0.0386 - accuracy: 0.9514 - val_loss: 0.0611 - val_accuracy: 0.9218\n",
      "Epoch 3/10\n",
      "192/192 [==============================] - 23s 121ms/step - loss: 0.0263 - accuracy: 0.9687 - val_loss: 0.0705 - val_accuracy: 0.9070\n",
      "Epoch 4/10\n",
      "192/192 [==============================] - 23s 119ms/step - loss: 0.0192 - accuracy: 0.9769 - val_loss: 0.0720 - val_accuracy: 0.9117\n",
      "Epoch 5/10\n",
      "192/192 [==============================] - 22s 117ms/step - loss: 0.0139 - accuracy: 0.9841 - val_loss: 0.0716 - val_accuracy: 0.9163\n",
      "Epoch 6/10\n",
      "192/192 [==============================] - 21s 112ms/step - loss: 0.0105 - accuracy: 0.9885 - val_loss: 0.0728 - val_accuracy: 0.9158\n",
      "Epoch 7/10\n",
      "192/192 [==============================] - 22s 115ms/step - loss: 0.0098 - accuracy: 0.9893 - val_loss: 0.0785 - val_accuracy: 0.9130\n",
      "Epoch 8/10\n",
      "192/192 [==============================] - 20s 106ms/step - loss: 0.0082 - accuracy: 0.9916 - val_loss: 0.0779 - val_accuracy: 0.9160\n",
      "Epoch 9/10\n",
      "192/192 [==============================] - 20s 107ms/step - loss: 0.0081 - accuracy: 0.9911 - val_loss: 0.0748 - val_accuracy: 0.9157\n",
      "Epoch 10/10\n",
      "192/192 [==============================] - 24s 125ms/step - loss: 0.0071 - accuracy: 0.9926 - val_loss: 0.0791 - val_accuracy: 0.9115\n"
     ]
    },
    {
     "data": {
      "text/plain": [
       "<keras.callbacks.History at 0x1d14342c1c0>"
      ]
     },
     "execution_count": 31,
     "metadata": {},
     "output_type": "execute_result"
    }
   ],
   "source": [
    "regressor.fit(X_train,y_train,validation_data=(X_test,y_test),epochs=10,batch_size=64)"
   ]
  }
 ],
 "metadata": {
  "kernelspec": {
   "display_name": "Python 3.10.5 64-bit",
   "language": "python",
   "name": "python3"
  },
  "language_info": {
   "codemirror_mode": {
    "name": "ipython",
    "version": 3
   },
   "file_extension": ".py",
   "mimetype": "text/x-python",
   "name": "python",
   "nbconvert_exporter": "python",
   "pygments_lexer": "ipython3",
   "version": "3.10.5"
  },
  "orig_nbformat": 4,
  "vscode": {
   "interpreter": {
    "hash": "26de051ba29f2982a8de78e945f0abaf191376122a1563185a90213a26c5da77"
   }
  }
 },
 "nbformat": 4,
 "nbformat_minor": 2
}
